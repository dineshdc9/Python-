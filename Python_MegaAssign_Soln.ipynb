{
 "cells": [
  {
   "cell_type": "markdown",
   "metadata": {},
   "source": [
    "## Assignment Part-1\n"
   ]
  },
  {
   "cell_type": "markdown",
   "metadata": {},
   "source": [
    "Q1. Why do we call Python as a general purpose and high-level programming language?"
   ]
  },
  {
   "cell_type": "markdown",
   "metadata": {},
   "source": [
    "Ans.General purpose Because it is designed to be used for building software in a wide variety of application domains, across a multitude of hardware configurations and operating systems.\n",
    "And High-level cause it is not written in machine-readable language and is user-friendly/understandable."
   ]
  },
  {
   "cell_type": "markdown",
   "metadata": {},
   "source": [
    "Q2. Why is Python called a dynamically typed language?\n"
   ]
  },
  {
   "cell_type": "markdown",
   "metadata": {},
   "source": [
    "Ans.Because we need not specify the type of a variable during coding as python understands the type of variable on its own"
   ]
  },
  {
   "cell_type": "markdown",
   "metadata": {},
   "source": [
    "Q3. List some pros and cons of Python programming language?"
   ]
  },
  {
   "cell_type": "markdown",
   "metadata": {
    "slideshow": {
     "slide_type": "slide"
    }
   },
   "source": [
    "Ans:-\n",
    "Pros: \n",
    "-Presence of third-party modules \n",
    "-Extensive support libraries(NumPy for numerical calculations, Pandas for data analytics, etc.) \n",
    "-Open source and large active community base \n",
    "-Versatile, Easy to read, learn and write\n",
    "-User-friendly data structures \n",
    "-High-level language \n",
    "-Dynamically typed language(No need to mention data type based on the value assigned, it takes data type) \n",
    "-Object-Oriented and Procedural  Programming language\n",
    "-Portable and Interactive\n",
    "-Ideal for prototypes – provide more functionality with less coding\n",
    "-Highly Efficient(Python’s clean object-oriented design provides enhanced process control, and the language is equipped with excellent text processing and integration capabilities, as well as its own unit testing framework, which makes it more efficient.)\n",
    "-Internet of Things(IoT) Opportunities\n",
    "-Interpreted Language\n",
    "-Portable across Operating systems \n",
    "\n",
    "\n",
    "Cons:\n",
    "-Poor Memory Efficiency\n",
    "-Slow Speed. \n",
    "-Database Access\n",
    "-Weak in Mobile Computing\n",
    "-Runtime Errors."
   ]
  },
  {
   "cell_type": "markdown",
   "metadata": {},
   "source": [
    "Q4. In what all domains can we use Python?"
   ]
  },
  {
   "cell_type": "markdown",
   "metadata": {},
   "source": [
    "Ans.\n",
    "Web Development. \n",
    "Game Development. \n",
    "Machine Learning and Artificial Intelligence. \n",
    "Data Science and Data Visualization. \n",
    "Desktop GUI. \n",
    "Web Scraping Applications. \n",
    "Business Applications. \n",
    "CAD Applications."
   ]
  },
  {
   "cell_type": "markdown",
   "metadata": {},
   "source": [
    "Q5. What are variable and how can we declare them?"
   ]
  },
  {
   "attachments": {},
   "cell_type": "markdown",
   "metadata": {},
   "source": [
    "Ans.Variables are the basic unit of storage in a programming language. These variables consist of a data type, the variable name, and the value to be assigned to the variable. Unless and until the variables are declared and initialized, they cannot be used in the program.    \n",
    "Declaring (Creating) Variables\n",
    "\n",
    "type variableName = value\n"
   ]
  },
  {
   "attachments": {},
   "cell_type": "markdown",
   "metadata": {},
   "source": [
    "Q6. How can we take an input from the user in Python?   \n",
    "Ans.  \n",
    "val = input(\"Enter your value: \")       \n",
    "      print(val)"
   ]
  },
  {
   "attachments": {},
   "cell_type": "markdown",
   "metadata": {},
   "source": [
    "Q7. What is the default datatype of the value that has been taken as an input using input() function?   \n",
    "Ans.String"
   ]
  },
  {
   "attachments": {},
   "cell_type": "markdown",
   "metadata": {},
   "source": [
    "Q8. What is type casting?   \n",
    "Ans.Changing the data type of a variable is called type casting"
   ]
  },
  {
   "attachments": {},
   "cell_type": "markdown",
   "metadata": {},
   "source": [
    "Q9. Can we take more than one input from the user using single input() function? If yes, how? If no, why?   \n",
    "Ans.Using split() function  \n",
    "variable 1, variable 2 =input(\"Enter what has to be conveyed to the user here\"). split(\" , \") "
   ]
  },
  {
   "attachments": {},
   "cell_type": "markdown",
   "metadata": {},
   "source": [
    "Q10. What are keywords?     \n",
    "Ans.Python keywords are special reserved words that have specific meanings and purposes and can't be used for anything but those specific purposes. These keywords are always available—you'll never have to import them into your code.\n"
   ]
  },
  {
   "attachments": {},
   "cell_type": "markdown",
   "metadata": {},
   "source": [
    "Q11. Can we use keywords as a variable? Support your answer with reason.    \n",
    "Ans.The keyword cannot be used as an identifier, function, and variable name.They are used to define the syntax and structure of the Python language so using them will disturb the code."
   ]
  },
  {
   "attachments": {},
   "cell_type": "markdown",
   "metadata": {},
   "source": [
    "Q12. What is indentation? What's the use of indentaion in Python?   \n",
    "Ans.Indentation refers to the spaces at the beginning of a code line. Where in other programming languages the indentation in code is for readability only, the indentation in Python is very important. Python uses indentation to indicate a block of code.\n"
   ]
  },
  {
   "attachments": {},
   "cell_type": "markdown",
   "metadata": {},
   "source": [
    "Q13. How can we throw some output in Python?\n",
    "Ans.By using print function"
   ]
  },
  {
   "attachments": {},
   "cell_type": "markdown",
   "metadata": {},
   "source": [
    "Q14. What are operators in Python?  \n",
    "Ans.Operators in Python are special symbols that carry arithmetic or logical operations. The value that the operator operates on is called the operand. In Python, there are seven different types of operators: arithmetic operators, assignment operators, comparison operators, logical operators, identity operators, membership operators, and boolean operators.\n"
   ]
  },
  {
   "attachments": {},
   "cell_type": "markdown",
   "metadata": {},
   "source": [
    "Q15. What is difference between / and // operators?     \n",
    "Ans./ is regular division(returns float) and // is floor division(returns int).     \n",
    "eg:     \n",
    "x = 5/2 #2.5        \n",
    "y = 5//2 #2 \n"
   ]
  },
  {
   "attachments": {},
   "cell_type": "markdown",
   "metadata": {},
   "source": [
    "Q16. Write a code that gives following as an output.\n",
    "```\n",
    "iNeuroniNeuroniNeuroniNeuron\n",
    "```\n",
    "\n",
    "Ans.print(\"iNeuroniNeuroniNeuroniNeuron\")   \n",
    "or  \n",
    "print(iNeuron*4)"
   ]
  },
  {
   "cell_type": "markdown",
   "metadata": {},
   "source": [
    "#Q17. Write a code to take a number as an input from the user and check if the number is odd or even.    \n",
    "#Ans.\n",
    "num = int (input (\"Enter any number to test whether it is odd or even: \"))\n",
    "\n",
    "if (num % 2) == 0:\n",
    "\n",
    "              print (\"The number is even\")\n",
    "\n",
    "else:\n",
    "\n",
    "              print (\"The provided number is odd\")\n"
   ]
  },
  {
   "attachments": {},
   "cell_type": "markdown",
   "metadata": {},
   "source": [
    "Q18. What are boolean operator?     \n",
    "Ans.The Python Boolean type is one of Python's built-in data types. It's used to represent the truth value of an expression. For example, the expression 1 <= 2 is True , while the expression 0 == 1 is False\n"
   ]
  },
  {
   "cell_type": "markdown",
   "metadata": {},
   "source": [
    "Q19. What will the output of the following?\n",
    "```\n",
    "1 or 0  o/p=True\n",
    "\n",
    "0 and 0  o/p=False\n",
    "\n",
    "True and False and True  o/p=False\n",
    "\n",
    "1 or 0 or 0  o/p=True\n",
    "```\n"
   ]
  },
  {
   "attachments": {},
   "cell_type": "markdown",
   "metadata": {},
   "source": [
    "Q20. What are conditional statements in Python?     \n",
    "Ans.A conditional statement as the name suggests itself, is used to handle conditions in your program. These statements guide the program while making decisions based on the conditions encountered by the program.    \n",
    "\n",
    "Python has following key Conditional Statements     \n",
    "if statement    \n",
    "if-else statement   \n",
    "if-elif-else ladder\n"
   ]
  },
  {
   "attachments": {},
   "cell_type": "markdown",
   "metadata": {},
   "source": [
    "Q21. What is use of 'if', 'elif' and 'else' keywords?   \n",
    "Ans.The if/elif/else structure is a common way to control the flow of a program, allowing you to execute specific blocks of code depending on the value of some data.   \n",
    "If the condition following the keyword if evaluates as true, the block of code will execute     \n",
    "You can optionally add an else response that will execute if the condition is false     \n",
    "Multiple conditions can be checked by including one or more elif checks after your initial if statement.\n"
   ]
  },
  {
   "cell_type": "markdown",
   "metadata": {},
   "source": [
    "#Q22. Write a code to take the age of person as an input and if age >= 18 display \"I can vote\". If age is < 18 display \"I can't vote\".      \n",
    "age=int(input(\"Enter your age : \"))     \n",
    "if age>=18:     \n",
    "    print(\"I can vote.\")        \n",
    "else:       \n",
    "    print(\"I can't vote.\")"
   ]
  },
  {
   "cell_type": "code",
   "execution_count": 16,
   "metadata": {},
   "outputs": [
    {
     "name": "stdout",
     "output_type": "stream",
     "text": [
      "392\n"
     ]
    }
   ],
   "source": [
    "#Q23. Write a code that displays the sum of all the even numbers from the given list.    \n",
    "#numbers = [12, 75, 150, 180, 145, 525, 50]  \n",
    "#Ans:    \n",
    "numbers = [12, 75, 150, 180, 145, 525, 50]\n",
    "# initialize the sum to 0\n",
    "sum = 0\n",
    "\n",
    "# iterate through the list and check if each number is even\n",
    "for number in numbers:\n",
    "  if number % 2 == 0:\n",
    "    # if the number is even, add it to the sum\n",
    "    sum += number\n",
    "\n",
    "# print the sum of the even numbers\n",
    "print(sum)"
   ]
  },
  {
   "cell_type": "code",
   "execution_count": 17,
   "metadata": {},
   "outputs": [
    {
     "name": "stdout",
     "output_type": "stream",
     "text": [
      "The greatest number is: 888\n"
     ]
    }
   ],
   "source": [
    "#Q24. Write a code to take 3 numbers as an input from the user and display the greatest no as output.\n",
    "\n",
    "#Ans.    \n",
    "# prompt the user to enter the three numbers\n",
    "number1 = int(input(\"Enter the first number: \"))\n",
    "number2 = int(input(\"Enter the second number: \"))\n",
    "number3 = int(input(\"Enter the third number: \"))\n",
    "\n",
    "# determine the greatest number by comparing the three numbers\n",
    "greatest = number1\n",
    "if number2 > greatest:\n",
    "  greatest = number2\n",
    "if number3 > greatest:\n",
    "  greatest = number3\n",
    "\n",
    "# print the greatest number\n",
    "print(\"The greatest number is:\", greatest)\n"
   ]
  },
  {
   "cell_type": "code",
   "execution_count": 24,
   "metadata": {},
   "outputs": [
    {
     "name": "stdout",
     "output_type": "stream",
     "text": [
      "180\n",
      "525\n"
     ]
    }
   ],
   "source": [
    "#Q25. Write a program to display only those numbers from a list that satisfy the following conditions\n",
    "\n",
    "#- The number must be divisible by five\n",
    "\n",
    "#- If the number is greater than 150, then skip it and move to the next number\n",
    "\n",
    "#- If the number is greater than 500, then stop the loop\n",
    "\n",
    "#numbers = [12, 75, 150, 180, 145, 525, 50]\n",
    "\n",
    "#Ans.   \n",
    "# define the list of numbers\n",
    "numbers = [12, 75, 150, 180, 145, 525, 50]\n",
    "\n",
    "# iterate through the list of numbers\n",
    "for number in numbers:\n",
    "  # skip the number if it is greater than 150\n",
    "  if number > 150:\n",
    "    # check if the number is divisible by five\n",
    "    if number % 5 == 0:\n",
    "      # print the number if it is divisible by five\n",
    "      print(number)\n",
    "    # stop the loop if the number is greater than 500\n",
    "    if number > 500:\n",
    "      break\n"
   ]
  },
  {
   "cell_type": "code",
   "execution_count": null,
   "metadata": {},
   "outputs": [],
   "source": [
    "Q26. What is a string? How can we declare string in Python?\n"
   ]
  },
  {
   "cell_type": "code",
   "execution_count": null,
   "metadata": {},
   "outputs": [],
   "source": [
    "Q27. How can we access the string using its index?      \n",
    "Ans.The index of a character in a string represents its position in the string, starting from 0 for the first character.\n"
   ]
  },
  {
   "cell_type": "code",
   "execution_count": 29,
   "metadata": {},
   "outputs": [
    {
     "data": {
      "text/plain": [
       "'iNeuron'"
      ]
     },
     "execution_count": 29,
     "metadata": {},
     "output_type": "execute_result"
    }
   ],
   "source": [
    "#Q28. Write a code to get the desired output of the following\n",
    "\n",
    "#string = \"Big Data iNeuron\"\n",
    "#desired_output = \"iNeuron\"  \n",
    "#Ans.    \n",
    "string = \"Big Data iNeuron\"\n",
    "string[9::1]"
   ]
  },
  {
   "cell_type": "code",
   "execution_count": 34,
   "metadata": {},
   "outputs": [
    {
     "data": {
      "text/plain": [
       "'norueNi'"
      ]
     },
     "execution_count": 34,
     "metadata": {},
     "output_type": "execute_result"
    }
   ],
   "source": [
    "\n",
    "#Q29. Write a code to get the desired output of the following\n",
    "\n",
    "#string = \"Big Data iNeuron\"\n",
    "#desired_output = \"norueNi\"  \n",
    "#Ans.   \n",
    "string = \"Big Data iNeuron\"\n",
    "string[-1:-8:-1]\n"
   ]
  },
  {
   "cell_type": "code",
   "execution_count": 35,
   "metadata": {},
   "outputs": [
    {
     "data": {
      "text/plain": [
       "'norueNi ataD giB'"
      ]
     },
     "execution_count": 35,
     "metadata": {},
     "output_type": "execute_result"
    }
   ],
   "source": [
    "#Q30. Resverse the string given in the above question.  \n",
    "#Ans:\n",
    "string = \"Big Data iNeuron\"\n",
    "string[::-1]\n",
    "\n"
   ]
  },
  {
   "cell_type": "code",
   "execution_count": null,
   "metadata": {},
   "outputs": [],
   "source": [
    "Q31. How can you delete entire string at once?\n",
    "Ans.del(string_name)"
   ]
  },
  {
   "attachments": {},
   "cell_type": "markdown",
   "metadata": {},
   "source": [
    "Q32. What is escape sequence?   \n",
    "Ans.In Python, an escape sequence is a combination of characters that represents a special character or a control code. Escape sequences are used to include special characters in a string that would otherwise be difficult or impossible to represent.   \n",
    "\n",
    "An escape sequence is denoted by a backslash (\\) followed by one or more characters. Some common escape sequences in Python are:    \n",
    "\n",
    "\\n: Represents a newline character.     \n",
    "\\t: Represents a tab character.     \n",
    "\\': Represents a single quote character (').     \n",
    "\\\": Represents a double quote character (\").        \n",
    "\\\\: Represents a backslash (\\). \n"
   ]
  },
  {
   "cell_type": "code",
   "execution_count": 41,
   "metadata": {},
   "outputs": [
    {
     "name": "stdout",
     "output_type": "stream",
     "text": [
      "iNeuron's Big Data Course\n"
     ]
    }
   ],
   "source": [
    "#Q33. How can you print the below string?\n",
    "\n",
    "#'iNeuron's Big Data Course'\n",
    "#Ans.    \n",
    "S='iNeuron\\'s Big Data Course'\n",
    "print(S)"
   ]
  },
  {
   "attachments": {},
   "cell_type": "markdown",
   "metadata": {},
   "source": [
    "Q34. What is a list in Python?      \n",
    "Ans.    \n",
    "a list is an ordered collection of items. Lists are a versatile data type that can hold a variety of data types, including numbers, strings, and other objects. Lists are mutable, which means that you can add, remove, or modify elements in a list after it is created.  \n",
    "\n"
   ]
  },
  {
   "cell_type": "code",
   "execution_count": null,
   "metadata": {},
   "outputs": [],
   "source": [
    "Q35. How can you create a list in Python?   \n",
    "Ans.        \n",
    "Eg.     \n",
    "numbers = [1, 2, 3, 4, 5]\n"
   ]
  },
  {
   "cell_type": "markdown",
   "metadata": {},
   "source": [
    "Q36. How can we access the elements in a list?  \n",
    "Ans.   using indexing. The index of an element in a list represents its position in the list\n"
   ]
  },
  {
   "cell_type": "code",
   "execution_count": 46,
   "metadata": {},
   "outputs": [
    {
     "data": {
      "text/plain": [
       "'iNeuron'"
      ]
     },
     "execution_count": 46,
     "metadata": {},
     "output_type": "execute_result"
    }
   ],
   "source": [
    "#Q37. Write a code to access the word \"iNeuron\" from the given list. \n",
    "#lst = [1,2,3,\"Hi\",[45,54, \"iNeuron\"], \"Big Data\"]   \n",
    "#Ans.\n",
    "lst = [1,2,3,\"Hi\",[45,54, \"iNeuron\"], \"Big Data\"]   \n",
    "lst[4][2]"
   ]
  },
  {
   "cell_type": "code",
   "execution_count": 48,
   "metadata": {},
   "outputs": [
    {
     "name": "stdout",
     "output_type": "stream",
     "text": [
      "The length of the list is: 5\n"
     ]
    }
   ],
   "source": [
    "#Q38. Take a list as an input from the user and find the length of the list. \n",
    "#Ans.    \n",
    "# prompt the user to enter a list of numbers\n",
    "numbers = input(\"Enter a list of numbers separated by commas: \")\n",
    "\n",
    "# split the input string into a list of numbers\n",
    "numbers = numbers.split(',')\n",
    "\n",
    "# convert the strings in the list to integers\n",
    "numbers = [int(x) for x in numbers]\n",
    "\n",
    "# print the length of the list\n",
    "print(\"The length of the list is:\", len(numbers))\n"
   ]
  },
  {
   "cell_type": "code",
   "execution_count": 50,
   "metadata": {},
   "outputs": [
    {
     "name": "stdout",
     "output_type": "stream",
     "text": [
      "['Welcome', 'to', 'Big', 'Data', 'course']\n"
     ]
    }
   ],
   "source": [
    "#Q39. Add the word \"Big\" in the 3rd index of the given list.\n",
    "lst = [\"Welcome\", \"to\", \"Data\", \"course\"]\n",
    "\n",
    "# insert the word \"Big\" at the 3rd index\n",
    "lst.insert(2, \"Big\")\n",
    "\n",
    "# print the modified list\n",
    "print(lst)\n"
   ]
  },
  {
   "cell_type": "markdown",
   "metadata": {},
   "source": [
    "Q40. What is a tuple? How is it different from list?    \n",
    "Ans.    \n",
    "a tuple is an immutable sequence type.unlike lists, tuples are immutable, which means that you cannot add, remove, or modify elements in a tuple after it is created."
   ]
  },
  {
   "attachments": {},
   "cell_type": "markdown",
   "metadata": {},
   "source": [
    "Q41. How can you create a tuple in Python?  \n",
    "Ans. numbers = (1, 2, 3, 4, 5)"
   ]
  },
  {
   "attachments": {},
   "cell_type": "markdown",
   "metadata": {},
   "source": [
    "Q42. Create a tuple and try to add your name in the tuple. Are you able to do it? Support your answer with reason.  \n",
    "Ans.    \n",
    "#create a tuple\n",
    "names = (\"ddc\", \"ben\", \"mdc\")\n",
    "\n",
    "#attempt to add a name to the tuple\n",
    "names.append(\"raj\")     \n",
    " we cannot add, remove, or modify elements in a tuple after it is created. we can only create a new tuple by concatenating or slicing existing tuples.\n",
    " "
   ]
  },
  {
   "cell_type": "code",
   "execution_count": 52,
   "metadata": {},
   "outputs": [
    {
     "name": "stdout",
     "output_type": "stream",
     "text": [
      "(1, 2, 3, 4, 5, 6)\n"
     ]
    }
   ],
   "source": [
    "#Q43. Can two tuple be appended. If yes, write a code for it. If not, why?   \n",
    "#Ans.Yes \n",
    "# define the first tuple\n",
    "tuple1 = (1, 2, 3)\n",
    "\n",
    "# define the second tuple\n",
    "tuple2 = (4, 5, 6)\n",
    "\n",
    "# concatenate the two tuples\n",
    "tuple3 = tuple1 + tuple2\n",
    "\n",
    "# print the new tuple\n",
    "print(tuple3)\n",
    "\n"
   ]
  },
  {
   "cell_type": "code",
   "execution_count": 54,
   "metadata": {},
   "outputs": [
    {
     "name": "stdout",
     "output_type": "stream",
     "text": [
      "The length of the tuple is: 8\n"
     ]
    }
   ],
   "source": [
    "#Q44. Take a tuple as an input and print the count of elements in it.    \n",
    "#Ans.    \n",
    "# prompt the user to enter a tuple\n",
    "tuple_input = input(\"Enter a tuple of numbers separated by commas: \")\n",
    "\n",
    "# split the input string into a tuple of numbers\n",
    "tuple_input = tuple(map(int, tuple_input.split(',')))\n",
    "\n",
    "# print the length of the tuple\n",
    "print(\"The length of the tuple is:\", len(tuple_input))\n"
   ]
  },
  {
   "cell_type": "markdown",
   "metadata": {},
   "source": [
    "Q45. What are sets in Python?   \n",
    "In Python, a set is a collection of unique elements. It is an unordered collection, meaning that the items are not stored in any particular order and do not have a specific index associated with them. Sets are defined using curly braces {} or the set function, and elements are separated by commas.\n"
   ]
  },
  {
   "attachments": {},
   "cell_type": "markdown",
   "metadata": {},
   "source": [
    "Q46. How can you create a set?  \n",
    "Ans.    \n",
    "#create an empty set    \n",
    "empty_set = set()\n",
    "\n",
    "#create a set with elements     \n",
    "numbers = {1, 2, 3, 4, 5}\n",
    "\n",
    "#create a set from a list   \n",
    "letters = set(['a', 'b', 'c', 'd', 'e'])\n"
   ]
  },
  {
   "cell_type": "code",
   "execution_count": 58,
   "metadata": {},
   "outputs": [
    {
     "name": "stdout",
     "output_type": "stream",
     "text": [
      "{'iNeuron', 1, 2, 3, 4, 5}\n"
     ]
    }
   ],
   "source": [
    "#Q47. Create a set and add \"iNeuron\" in your set.\n",
    "#Ans.    \n",
    "numbers = {1, 2, 3, 4, 5}\n",
    "numbers.add(\"iNeuron\")\n",
    "print(numbers)"
   ]
  },
  {
   "cell_type": "code",
   "execution_count": 60,
   "metadata": {},
   "outputs": [
    {
     "name": "stdout",
     "output_type": "stream",
     "text": [
      "{1, 2, 3, 4, 5, 6, 7, 8, 9}\n"
     ]
    }
   ],
   "source": [
    "#Q48. Try to add multiple values using add() function.   \n",
    "#Ans.    \n",
    "s = set()\n",
    "\n",
    "# add multiple values to the set using the update method\n",
    "s.update([1, 2, 3])\n",
    "s.update((4, 5, 6))\n",
    "s.update({7, 8, 9})\n",
    "\n",
    "print(s)"
   ]
  },
  {
   "attachments": {},
   "cell_type": "markdown",
   "metadata": {},
   "source": [
    "Q49. How is update() different from add()?      \n",
    "Ans.    \n",
    "The update method allows you to add one or more elements to a set. You can pass the update method a list, tuple, or another set as an argument to add the elements in that collection to the set\n",
    " the add method can only be used to add a single element to a set. It takes a single argument, which is the element to be added to the set."
   ]
  },
  {
   "cell_type": "code",
   "execution_count": 61,
   "metadata": {},
   "outputs": [
    {
     "name": "stdout",
     "output_type": "stream",
     "text": [
      "set()\n"
     ]
    }
   ],
   "source": [
    "#Q50. What is clear() in sets?\n",
    "#Ans.the clear method is used to remove all the elements from a set\n",
    "\n",
    "s = {1, 2, 3, 4, 5}\n",
    "\n",
    "s.clear()\n",
    "\n",
    "print(s)  \n"
   ]
  },
  {
   "attachments": {},
   "cell_type": "markdown",
   "metadata": {},
   "source": [
    "Q51. What is frozen set?    \n",
    "Ans.In Python, a frozen set is an immutable version of a set. It is a set that cannot be modified once it is created, meaning that you cannot add or remove elements from a frozen set. Frozen sets are defined using the frozenset function, and their elements are separated by commas."
   ]
  },
  {
   "cell_type": "markdown",
   "metadata": {},
   "source": [
    "Q52. How is frozen set different from set?      \n",
    "Ans.In Python, a frozen set is an immutable version of a set. It is a set that cannot be modified once it is created, meaning that you cannot add or remove elements from a frozen set. Frozen sets are defined using the frozenset function, and their elements are separated by commas.\n"
   ]
  },
  {
   "cell_type": "code",
   "execution_count": 62,
   "metadata": {},
   "outputs": [
    {
     "name": "stdout",
     "output_type": "stream",
     "text": [
      "frozenset({1, 2, 3, 4, 5, 6, 7, 8})\n"
     ]
    }
   ],
   "source": [
    "#Q53. What is union() in sets? Explain via code.     \n",
    "#Ans.    \n",
    "# create two frozen sets\n",
    "frozen_set1 = frozenset([1, 2, 3, 4, 5])\n",
    "frozen_set2 = frozenset([4, 5, 6, 7, 8])\n",
    "\n",
    "# find the union of the two frozen sets\n",
    "union = frozen_set1 | frozen_set2\n",
    "print(union)  \n",
    "\n"
   ]
  },
  {
   "cell_type": "code",
   "execution_count": 63,
   "metadata": {},
   "outputs": [
    {
     "name": "stdout",
     "output_type": "stream",
     "text": [
      "{4, 5}\n"
     ]
    }
   ],
   "source": [
    "#Q54. What is intersection() in sets? Explain via code.\n",
    "#Ans.    \n",
    "# create two sets\n",
    "set1 = {1, 2, 3, 4, 5}\n",
    "set2 = {4, 5, 6, 7, 8}\n",
    "\n",
    "# find the intersection of the two sets\n",
    "intersection = set1.intersection(set2)\n",
    "\n",
    "print(intersection)  \n"
   ]
  },
  {
   "cell_type": "markdown",
   "metadata": {},
   "source": [
    "Q55. What is dictionary in Python?  \n",
    "Ans.a dictionary is a collection of key-value pairs. It is an unordered collection, meaning that the items are not stored in any particular order and do not have a specific index associated with them. Dictionaries are defined using curly braces {} and have a structure of {key: value}\n"
   ]
  },
  {
   "attachments": {},
   "cell_type": "markdown",
   "metadata": {},
   "source": [
    "Q56. How is dictionary different from all other data structures.    \n",
    "Ans.\n",
    "Structure: A dictionary is a collection of key-value pairs, where each key is unique and is used to access the associated value. Other data structures, such as lists and tuples, are ordered collections of elements that do not have a specific key associated with them.\n",
    "\n",
    "Indexing: In a dictionary, you can access the values using the keys, but you cannot access them using an index like you can with lists and tuples. In a list or tuple, you can access the elements using their position in the collection\n",
    "\n",
    "Mutability: Dictionaries are mutable, meaning that you can add, remove, or modify the key-value pairs after the dictionary is created. Other data structures, such as tuples and frozen sets, are immutable, meaning that you cannot modify them once they are created.\n",
    "\n",
    "Types of elements: In a dictionary, the keys can be of any immutable type (such as strings, numbers, or tuples), but the values can be of any type. In other data structures, the elements must be of a specific type (such as integers in a list or strings in a set).\n",
    "\n",
    "Searching: Dictionaries are optimized for fast access to the values using the keys. You can use the get method or the square brackets [] to access the value associated with a key in a dictionary in constant time (O(1)). Other data structures, such as lists and sets, do not have this optimization and require linear time (O(n)) to search for an element\n"
   ]
  },
  {
   "cell_type": "code",
   "execution_count": null,
   "metadata": {},
   "outputs": [],
   "source": [
    "Q57. How can we delare a dictionary in Python?  \n",
    "Ans.    \n",
    "# create a dictionary\n",
    "person = {'name': 'John', 'age': 30, 'gender': 'male'}\n"
   ]
  },
  {
   "cell_type": "code",
   "execution_count": 1,
   "metadata": {},
   "outputs": [
    {
     "name": "stdout",
     "output_type": "stream",
     "text": [
      "<class 'dict'>\n"
     ]
    }
   ],
   "source": [
    "\n",
    "#Q58. What will the output of the following?\n",
    "var = {}\n",
    "print(type(var))\n",
    "\n",
    "Ans.<class 'dict'>\n"
   ]
  },
  {
   "cell_type": "code",
   "execution_count": null,
   "metadata": {},
   "outputs": [],
   "source": [
    "Q59. How can we add an element in a dictionary?\n",
    "Ans.\n",
    "dictionary = {'key1': 'value1'}\n",
    "dictionary.update({'key2': 'value2', 'key3': 'value3'})\n",
    "print(dictionary)\n"
   ]
  },
  {
   "cell_type": "code",
   "execution_count": 2,
   "metadata": {},
   "outputs": [
    {
     "name": "stdout",
     "output_type": "stream",
     "text": [
      "key1 value1\n",
      "key2 value2\n",
      "key3 value3\n"
     ]
    }
   ],
   "source": [
    "#Q60. Create a dictionary and access all the values in that dictionary.\n",
    "#Ans.\n",
    "dictionary = {'key1': 'value1', 'key2': 'value2', 'key3': 'value3'}\n",
    "for key, value in dictionary.items():\n",
    "  print(key, value)\n"
   ]
  },
  {
   "cell_type": "code",
   "execution_count": 3,
   "metadata": {},
   "outputs": [
    {
     "name": "stdout",
     "output_type": "stream",
     "text": [
      "inner_key1 inner_value1\n",
      "inner_key2 inner_value2\n",
      "inner_key3 inner_value3\n",
      "inner_key4 inner_value4\n"
     ]
    }
   ],
   "source": [
    "#Q61. Create a nested dictionary and access all the element in the inner dictionary.\n",
    "#Ans.\n",
    "outer_dictionary = {'key1': {'inner_key1': 'inner_value1', 'inner_key2': 'inner_value2'}, 'key2': {'inner_key3': 'inner_value3', 'inner_key4': 'inner_value4'}}\n",
    "\n",
    "for inner_dictionary in outer_dictionary.values():\n",
    "  for inner_key, inner_value in inner_dictionary.items():\n",
    "    print(inner_key, inner_value)\n"
   ]
  },
  {
   "attachments": {},
   "cell_type": "markdown",
   "metadata": {},
   "source": [
    "Q62. What is the use of get() function?     \n",
    "Ans.        \n",
    "The get() function is a built-in function in Python that is used to retrieve the value of a key from a dictionary. It takes the dictionary and the key as arguments, and returns the value associated with the key. If the key is not found in the dictionary, it returns a default value, which is None by default, but you can specify a different default value if you want."
   ]
  },
  {
   "cell_type": "code",
   "execution_count": 1,
   "metadata": {},
   "outputs": [
    {
     "name": "stdout",
     "output_type": "stream",
     "text": [
      "a 1\n",
      "b 2\n",
      "c 3\n"
     ]
    }
   ],
   "source": [
    "#Q63. What is the use of items() function?\n",
    "#Ans.The items() function is a built-in function in Python that is used to return a view object that contains the key-value pairs of a dictionary. \n",
    "\n",
    "d = {'a': 1, 'b': 2, 'c': 3}\n",
    "\n",
    "for key, value in d.items():\n",
    "  print(key, value)\n"
   ]
  },
  {
   "cell_type": "code",
   "execution_count": 2,
   "metadata": {},
   "outputs": [
    {
     "name": "stdout",
     "output_type": "stream",
     "text": [
      "2\n",
      "{'a': 1, 'c': 3}\n"
     ]
    }
   ],
   "source": [
    "#Q64. What is the use of pop() function?\n",
    "#Ans.The pop() function is a built-in function in Python that is used to remove and return an element from a dictionary with a given key. \n",
    "\n",
    "d = {'a': 1, 'b': 2, 'c': 3}\n",
    "\n",
    "val = d.pop('b')\n",
    "print(val)\n",
    "print(d)\n"
   ]
  },
  {
   "cell_type": "code",
   "execution_count": 3,
   "metadata": {},
   "outputs": [
    {
     "name": "stdout",
     "output_type": "stream",
     "text": [
      "c 3\n",
      "{'a': 1, 'b': 2}\n"
     ]
    }
   ],
   "source": [
    "#Q65. What is the use of popitems() function?\n",
    "#Ans.The popitem() function is a built-in function in Python that is used to remove and return an arbitrary (key, value) pair from a dictionary\n",
    "\n",
    "d = {'a': 1, 'b': 2, 'c': 3}\n",
    "\n",
    "key, value = d.popitem()\n",
    "print(key, value)\n",
    "print(d)\n",
    "\n"
   ]
  },
  {
   "cell_type": "code",
   "execution_count": 4,
   "metadata": {},
   "outputs": [
    {
     "name": "stdout",
     "output_type": "stream",
     "text": [
      "a\n",
      "b\n",
      "c\n"
     ]
    }
   ],
   "source": [
    "#Q66. What is the use of keys() function?\n",
    "#Ans.The keys() function is a built-in function in Python that is used to return a view object that contains the keys of a dictionary\n",
    "\n",
    "d = {'a': 1, 'b': 2, 'c': 3}\n",
    "\n",
    "for key in d.keys():\n",
    "  print(key)\n"
   ]
  },
  {
   "cell_type": "code",
   "execution_count": 5,
   "metadata": {},
   "outputs": [
    {
     "name": "stdout",
     "output_type": "stream",
     "text": [
      "1\n",
      "2\n",
      "3\n"
     ]
    }
   ],
   "source": [
    "#Q67. What is the use of values() function?\n",
    "#Ans.The values() function is a built-in function in Python that is used to return a view object that contains the values of a dictionary\n",
    "\n",
    "d = {'a': 1, 'b': 2, 'c': 3}\n",
    "\n",
    "for value in d.values():\n",
    "  print(value)\n"
   ]
  },
  {
   "attachments": {},
   "cell_type": "markdown",
   "metadata": {},
   "source": [
    "Q68. What are loops in Python?      \n",
    "Ans.In Python, a loop is a control flow statement that allows you to execute a block of code multiple times. \n"
   ]
  },
  {
   "attachments": {},
   "cell_type": "markdown",
   "metadata": {},
   "source": [
    "Q69. How many type of loop are there in Python?     \n",
    "Ans.There are two types of loops in Python: for loops and while loops."
   ]
  },
  {
   "attachments": {},
   "cell_type": "markdown",
   "metadata": {},
   "source": [
    "Q70. What is the difference between for and while loops?    \n",
    "Ans.he main difference between for loops and while loops in Python is the way in which they are controlled. \n",
    "A for loop is used to iterate over a sequence of elements, such as a list or a string, while a while loop is used to execute a block of code repeatedly \n",
    "as long as a certain condition is true.\n",
    "\n"
   ]
  },
  {
   "attachments": {},
   "cell_type": "markdown",
   "metadata": {},
   "source": [
    "Q71. What is the use of continue statement?     \n",
    "Ans.The continue statement is a control flow statement in Python that is used to skip the rest of the current iteration of a loop and \n",
    "move on to the next iteration. It can be used in both for loops and while loops.\n"
   ]
  },
  {
   "cell_type": "markdown",
   "metadata": {},
   "source": [
    "Q72. What is the use of break statement?    \n",
    "Ans.The break statement is a control flow statement in Python that is used to exit a loop prematurely. It can be used in both for loops and while loops.\n"
   ]
  },
  {
   "cell_type": "markdown",
   "metadata": {},
   "source": [
    "Q73. What is the use of pass statement?     \n",
    "Ans.The pass statement is a null operation in Python. It is used as a placeholder when a statement is required syntactically, but no code needs to be executed.\n",
    "\n",
    "For example, you might use pass as a placeholder in a function definition when you are not yet ready to write the function body.\n"
   ]
  },
  {
   "cell_type": "markdown",
   "metadata": {},
   "source": [
    "Q74. What is the use of range() function?   \n",
    "Ans.The range() function is a built-in function in Python that generates a sequence of integers. It takes three arguments: start, stop, and step.\n"
   ]
  },
  {
   "cell_type": "code",
   "execution_count": 6,
   "metadata": {},
   "outputs": [
    {
     "name": "stdout",
     "output_type": "stream",
     "text": [
      "a\n",
      "b\n",
      "c\n",
      "1\n",
      "2\n",
      "3\n",
      "a 1\n",
      "b 2\n",
      "c 3\n"
     ]
    }
   ],
   "source": [
    "#Q75. How can you loop over a dictionary?\n",
    "#Ans.\n",
    "#For looping over keys\n",
    "my_dict = {'a': 1, 'b': 2, 'c': 3}\n",
    "\n",
    "for key in my_dict.keys():\n",
    "    print(key)\n",
    "\n",
    "\n",
    "#For looping over values\n",
    "my_dict = {'a': 1, 'b': 2, 'c': 3}\n",
    "\n",
    "for value in my_dict.values():\n",
    "    print(value)\n",
    "\n",
    "\n",
    "#For both keys and values\n",
    "my_dict = {'a': 1, 'b': 2, 'c': 3}\n",
    "\n",
    "for key, value in my_dict.items():\n",
    "    print(key, value)\n"
   ]
  },
  {
   "cell_type": "markdown",
   "metadata": {},
   "source": [
    "\n",
    "\n",
    "### Coding problems\n"
   ]
  },
  {
   "cell_type": "code",
   "execution_count": 7,
   "metadata": {},
   "outputs": [
    {
     "name": "stdout",
     "output_type": "stream",
     "text": [
      "120\n"
     ]
    }
   ],
   "source": [
    "#Q76. Write a Python program to find the factorial of a given number.\n",
    "\n",
    "def factorial(n):\n",
    "    result = 1\n",
    "    for i in range(1, n+1):\n",
    "        result *= i\n",
    "    return result\n",
    "\n",
    "# Test the function\n",
    "print(factorial(5))  \n",
    "\n"
   ]
  },
  {
   "cell_type": "code",
   "execution_count": 10,
   "metadata": {},
   "outputs": [
    {
     "name": "stdout",
     "output_type": "stream",
     "text": [
      "Simple interest is : 1000.0\n"
     ]
    }
   ],
   "source": [
    "#Q77. Write a Python program to calculate the simple interest. Formula to calculate simple interest is SI = (P*R*T)/100\n",
    "\n",
    "def simple_interest(P, R, T):\n",
    "  SI = (P * R * T) / 100\n",
    "  return SI\n",
    "\n",
    "# test the function\n",
    "P = 10000\n",
    "R = 5\n",
    "T = 2\n",
    "SI = simple_interest(P, R, T)\n",
    "print(f\"Simple interest is : {SI}\")\n"
   ]
  },
  {
   "cell_type": "code",
   "execution_count": 15,
   "metadata": {},
   "outputs": [
    {
     "name": "stdout",
     "output_type": "stream",
     "text": [
      "Compound interest is: 11025.0\n"
     ]
    }
   ],
   "source": [
    "#Q78. Write a Python program to calculate the compound interest. Formula of compound interest is A = P(1+ R/100)^t.\n",
    "\n",
    "def compound_interest(P, R, T):\n",
    "  CI = P * (1 + (R/100)) ** T\n",
    "  return CI\n",
    "\n",
    "# test the function\n",
    "P = 10000\n",
    "R = 5\n",
    "T = 2\n",
    "CI = compound_interest(P, R, T)\n",
    "print(f\"Compound interest is: {CI}\")\n"
   ]
  },
  {
   "cell_type": "code",
   "execution_count": 18,
   "metadata": {},
   "outputs": [
    {
     "name": "stdout",
     "output_type": "stream",
     "text": [
      "87 is not a prime number\n"
     ]
    }
   ],
   "source": [
    "#Q79. Write a Python program to check if a number is prime or not.\n",
    "num = int(input(\"Enter given number :\"))\n",
    "# If given number is greater than 1\n",
    "if num > 1:\n",
    "\t# Iterate from 2 to n / 2\n",
    "\tfor i in range(2, int(num/2)+1):\n",
    "\t\t# If num is divisible by any number between\n",
    "\t\t# 2 and n / 2, it is not prime\n",
    "\t\tif (num % i) == 0:\n",
    "\t\t\tprint(num, \"is not a prime number\")\n",
    "\t\t\tbreak\n",
    "\telse:\n",
    "\t\tprint(num, \"is a prime number\")\n",
    "else:\n",
    "\tprint(num, \"is not a prime number\")\n"
   ]
  },
  {
   "cell_type": "code",
   "execution_count": 22,
   "metadata": {},
   "outputs": [
    {
     "name": "stdout",
     "output_type": "stream",
     "text": [
      "True\n",
      "The given number 153 is armstrong number\n"
     ]
    }
   ],
   "source": [
    "#Q80. Write a Python program to check Armstrong Number.\n",
    "#Ans.\n",
    "def is_armstrong_number(num):\n",
    "  # Convert the number to a string and get the length\n",
    "  num_str = str(num)\n",
    "  length = len(num_str)\n",
    "\n",
    "  # Initialize a variable to store the sum of the digits\n",
    "  sum_of_digits = 0\n",
    "\n",
    "  # Iterate over the digits of the number\n",
    "  for digit in num_str:\n",
    "    # Convert the digit to an integer and add it to the sum\n",
    "    sum_of_digits += int(digit) ** length\n",
    "\n",
    "  # Return True if the sum is equal to the number, False otherwise\n",
    "  return sum_of_digits == num\n",
    "\n",
    "# Test the function with some examples\n",
    "print(is_armstrong_number(153)) \n",
    "\n",
    "\n",
    "# to check whether the given number is armstrong or not\n",
    "n = int(input()) \n",
    "s = n # assigning input value to the s variable\n",
    "b = len(str(n))\n",
    "sum1 = 0\n",
    "while n != 0:\n",
    "\tr = n % 10\n",
    "\tsum1 = sum1+(r**b)\n",
    "\tn = n//10\n",
    "if s == sum1:\n",
    "\tprint(\"The given number\", s, \"is armstrong number\")\n",
    "else:\n",
    "\tprint(\"The given number\", s, \"is not armstrong number\")\n",
    "\n",
    "# This code is contributed by Gangarajula Laxmi\n",
    "\n"
   ]
  },
  {
   "cell_type": "code",
   "execution_count": 27,
   "metadata": {},
   "outputs": [
    {
     "name": "stdout",
     "output_type": "stream",
     "text": [
      "21\n"
     ]
    }
   ],
   "source": [
    "#Q81. Write a Python program to find the n-th Fibonacci Number.\n",
    "#Ans.\n",
    "# Function for nth Fibonacci number\n",
    "\n",
    "def Fibonacci(n):\n",
    "\tif n<= 0:\n",
    "\t\tprint(\"Incorrect input\")\n",
    "\t# First Fibonacci number is 0\n",
    "\telif n == 1:\n",
    "\t\treturn 0\n",
    "\t# Second Fibonacci number is 1\n",
    "\telif n == 2:\n",
    "\t\treturn 1\n",
    "\telse:\n",
    "\t\treturn Fibonacci(n-1)+Fibonacci(n-2)\n",
    "\n",
    "print(Fibonacci(9))\n",
    "\n"
   ]
  },
  {
   "cell_type": "code",
   "execution_count": 31,
   "metadata": {},
   "outputs": [
    {
     "name": "stdout",
     "output_type": "stream",
     "text": [
      "[24, 35, 9, 56, 12]\n"
     ]
    },
    {
     "data": {
      "text/plain": [
       "[45, 43, 56, 76, 12]"
      ]
     },
     "execution_count": 31,
     "metadata": {},
     "output_type": "execute_result"
    }
   ],
   "source": [
    "#Q82. Write a Python program to interchange the first and last element in a list.\n",
    "#Ans.\n",
    "# Swap function\n",
    "def swapList(newList):\n",
    "\tsize = len(newList)\n",
    "\t\n",
    "\t# Swapping\n",
    "\ttemp = newList[0]\n",
    "\tnewList[0] = newList[size - 1]\n",
    "\tnewList[size - 1] = temp\n",
    "\t\n",
    "\treturn newList\n",
    "\t\n",
    "newList = [12, 35, 9, 56, 24]\n",
    "\n",
    "print(swapList(newList))\n",
    "\n",
    "\n",
    "#2nd Approach\n",
    "def interchange_first_last(lst):\n",
    "  # Check if the list is empty or has only one element\n",
    "  if len(lst) <= 1:\n",
    "    return lst\n",
    "\n",
    "  # Create a new list with the first and last elements interchanged\n",
    "  new_lst = [lst[-1]] + lst[1:-1] + [lst[0]]\n",
    "\n",
    "  return new_lst\n",
    "interchange_first_last([12,43,56,76,45])"
   ]
  },
  {
   "cell_type": "code",
   "execution_count": 35,
   "metadata": {},
   "outputs": [
    {
     "data": {
      "text/plain": [
       "[12, 34, 56, 78, 22, 54]"
      ]
     },
     "execution_count": 35,
     "metadata": {},
     "output_type": "execute_result"
    }
   ],
   "source": [
    "#Q83. Write a Python program to swap two elements in a list.\n",
    "#Ans.\n",
    "def swap_elements(lst, index1, index2):\n",
    "  # Check if the indices are within the bounds of the list\n",
    "  if index1 < 0 or index1 >= len(lst) or index2 < 0 or index2 >= len(lst):\n",
    "    return lst\n",
    "\n",
    "  # Create a new list with the elements at the indices swapped\n",
    "  new_lst = lst[:index1] + [lst[index2]] + lst[index1+1:index2] + [lst[index1]] + lst[index2+1:]\n",
    "\n",
    "  return new_lst\n",
    "swap_elements([12,34,56,78,54,22],4,5)\n",
    "\n"
   ]
  },
  {
   "cell_type": "code",
   "execution_count": 37,
   "metadata": {},
   "outputs": [
    {
     "name": "stdout",
     "output_type": "stream",
     "text": [
      "[5, 4, 3, 2]\n"
     ]
    }
   ],
   "source": [
    "#Q84. Write a Python program to find N largest element from a list.\n",
    "#Ans.\n",
    "def find_n_largest(lst, n):\n",
    "  # Sort the list in descending order\n",
    "  sorted_lst = sorted(lst, reverse=True)\n",
    "\n",
    "  # Return the first N elements\n",
    "  return sorted_lst[:n]\n",
    "\n",
    "# Test the function with some examples\n",
    "print(find_n_largest([1, 2, 3, 4, 5], 4)) \n"
   ]
  },
  {
   "cell_type": "code",
   "execution_count": 39,
   "metadata": {},
   "outputs": [
    {
     "name": "stdout",
     "output_type": "stream",
     "text": [
      "[10, 30, 60, 100, 150]\n"
     ]
    }
   ],
   "source": [
    "#Q85. Write a Python program to find cumulative sum of a list.\n",
    "#Ans.\n",
    "def Cumulative(lists):\n",
    "\tcu_list = []\n",
    "\tlength = len(lists)\n",
    "\tcu_list = [sum(lists[0:x:1]) for x in range(0, length+1)]\n",
    "\treturn cu_list[1:]\n",
    "\n",
    "lists = [10, 20, 30, 40, 50]\n",
    "print (Cumulative(lists))\n"
   ]
  },
  {
   "cell_type": "code",
   "execution_count": 43,
   "metadata": {},
   "outputs": [
    {
     "name": "stdout",
     "output_type": "stream",
     "text": [
      "No\n"
     ]
    }
   ],
   "source": [
    "#Q86. Write a Python program to check if a string is palindrome or not.\n",
    "#Ans.\n",
    "def isPalindrome(s):\n",
    "\treturn s == s[::-1]\n",
    "\n",
    "s = \"dind\"\n",
    "ans = isPalindrome(s)\n",
    "\n",
    "if ans:\n",
    "\tprint(\"Yes\")\n",
    "else:\n",
    "\tprint(\"No\")\n"
   ]
  },
  {
   "cell_type": "code",
   "execution_count": 44,
   "metadata": {},
   "outputs": [
    {
     "name": "stdout",
     "output_type": "stream",
     "text": [
      "bcdef\n"
     ]
    }
   ],
   "source": [
    "#Q87. Write a Python program to remove i'th element from a string.\n",
    "#Ans.\n",
    "def remove_ith_element(s, i):\n",
    "  # Check if the index is within the bounds of the string\n",
    "  if i < 0 or i >= len(s):\n",
    "    return s\n",
    "\n",
    "  # Remove the i-th element using slicing\n",
    "  new_s = s[:i] + s[i+1:]\n",
    "\n",
    "  return new_s\n",
    "\n",
    "# Test the function with some examples\n",
    "print(remove_ith_element('abcdef', 0)) \n"
   ]
  },
  {
   "cell_type": "code",
   "execution_count": 46,
   "metadata": {},
   "outputs": [
    {
     "name": "stdout",
     "output_type": "stream",
     "text": [
      "No! it is not present\n"
     ]
    }
   ],
   "source": [
    "#Q88. Write a Python program to check if a substring is present in a given string.\n",
    "#Ans.\n",
    "MyString1 = \"A geek in need is a geek indeed\"\n",
    "\n",
    "if \"weed\" in MyString1:\n",
    "\tprint(\"Yes! it is present in the string\")\n",
    "else:\n",
    "\tprint(\"No! it is not present\")\n"
   ]
  },
  {
   "cell_type": "code",
   "execution_count": 49,
   "metadata": {},
   "outputs": [
    {
     "name": "stdout",
     "output_type": "stream",
     "text": [
      "[]\n"
     ]
    }
   ],
   "source": [
    "#Q89. Write a Python program to find words which are greater than given length k.\n",
    "#Ans.\n",
    "sentence = \"hello geeks for geeks is computer science portal\"\n",
    "length = 9\n",
    "print([word for word in sentence.split() if len(word) > length])\n"
   ]
  },
  {
   "cell_type": "code",
   "execution_count": 16,
   "metadata": {},
   "outputs": [
    {
     "name": "stdout",
     "output_type": "stream",
     "text": [
      "{1, 2, 3}\n"
     ]
    }
   ],
   "source": [
    "#Q90. Write a Python program to extract unique dictionary values.\n",
    "\n",
    "def extract_unique_values(d):\n",
    "  # get a view object with all the values in the dictionary\n",
    "  values = d.values()\n",
    "  # create a set with the values as its elements\n",
    "  unique_values = set(values)\n",
    "  return unique_values\n",
    "\n",
    "# test the function\n",
    "d = {'a': 1, 'b': 2, 'c': 3, 'd': 2}\n",
    "print(extract_unique_values(d))  \n",
    "\n"
   ]
  },
  {
   "cell_type": "code",
   "execution_count": null,
   "metadata": {},
   "outputs": [],
   "source": [
    "#Q91. Write a Python program to merge two dictionary.\n",
    "#Ans.\n",
    "def merge_dictionaries(dict1, dict2):\n",
    "  # update dict1 with the key-value pairs from dict2\n",
    "  dict1.update(dict2)\n",
    "  return dict1\n",
    "\n",
    "# test the function\n",
    "dict1 = {'a': 1, 'b': 2}\n",
    "dict2 = {'b': 3, 'c': 4}\n",
    "print(merge_dictionaries(dict1, dict2))  # prints {'a': 1, 'b': 3, 'c': 4}\n"
   ]
  },
  {
   "cell_type": "code",
   "execution_count": 15,
   "metadata": {},
   "outputs": [
    {
     "name": "stdout",
     "output_type": "stream",
     "text": [
      "{'Sachin': 10, 'MSD': 7, 'Kohli': 18, 'Rohit': 45}\n"
     ]
    }
   ],
   "source": [
    "\n",
    "#Q92. Write a Python program to convert a list of tuples into dictionary.\n",
    "#Input : [('Sachin', 10), ('MSD', 7), ('Kohli', 18), ('Rohit', 45)]\n",
    "#Output : {'Sachin': 10, 'MSD': 7, 'Kohli': 18, 'Rohit': 45}\n",
    "#Ans.\n",
    "# Python code to convert into dictionary\n",
    "\n",
    "print (dict([('Sachin', 10), ('MSD', 7), ('Kohli', 18), ('Rohit', 45)]))\n"
   ]
  },
  {
   "cell_type": "code",
   "execution_count": 12,
   "metadata": {},
   "outputs": [
    {
     "name": "stdout",
     "output_type": "stream",
     "text": [
      "[(9, 729), (5, 125), (6, 216)]\n"
     ]
    }
   ],
   "source": [
    "\n",
    "#Q93. Write a Python program to create a list of tuples from given list having number and its cube in each tuple.\n",
    "\n",
    "#Input: list = [9, 5, 6]\n",
    "#Output: [(9, 729), (5, 125), (6, 216)]\n",
    "\n",
    "#Ans.\n",
    "\n",
    "\n",
    "# creating a list\n",
    "list = [9,5,6]\n",
    "\n",
    "# using list comprehension to iterate each\n",
    "# values in list and create a tuple as specified\n",
    "res = [(val, pow(val, 3)) for val in list]\n",
    "\n",
    "# print the result\n",
    "print(res)\n",
    "\n"
   ]
  },
  {
   "cell_type": "code",
   "execution_count": 9,
   "metadata": {},
   "outputs": [
    {
     "name": "stdout",
     "output_type": "stream",
     "text": [
      "The filtered tuple : [(7, 7), (7, 8), (2, 7), (2, 8), (7, 7), (7, 2), (8, 7), (8, 2)]\n"
     ]
    }
   ],
   "source": [
    "#Q94. Write a Python program to get all combinations of 2 tuples.\n",
    "#Input : test_tuple1 = (7, 2), test_tuple2 = (7, 8)\n",
    "#Output : [(7, 7), (7, 8), (2, 7), (2, 8), (7, 7), (7, 2), (8, 7), (8, 2)]\n",
    "#Ans.\n",
    "# initializing tuples\n",
    "test_tuple1 = (7, 2)\n",
    "test_tuple2 = (7, 8)\n",
    "\n",
    "# All pair combinations of 2 tuples\n",
    "# Using list comprehension\n",
    "res = [(a, b) for a in test_tuple1 for b in test_tuple2]\n",
    "res = res + [(a, b) for a in test_tuple2 for b in test_tuple1]\n",
    "\n",
    "# printing result\n",
    "print(\"The filtered tuple : \"+ str(res))\n",
    "\n"
   ]
  },
  {
   "attachments": {},
   "cell_type": "markdown",
   "metadata": {},
   "source": [
    "#Q95. Write a Python program to sort a list of tuples by second item.\n",
    "\n",
    "Input : [('for', 24), ('Geeks', 8), ('Geeks', 30)] \n",
    "Output : [('Geeks', 8), ('for', 24), ('Geeks', 30)]\n",
    "\n",
    "tuples = [(1, 3), (3, 2), (2, 1)]\n",
    "\n",
    "sorted_tuples = sorted(tuples, key=lambda x: x[1])\n",
    "\n",
    "print(sorted_tuples)  # Output: [(2, 1), (3, 2), (1, 3)]\n"
   ]
  },
  {
   "cell_type": "code",
   "execution_count": null,
   "metadata": {},
   "outputs": [],
   "source": []
  },
  {
   "cell_type": "markdown",
   "metadata": {},
   "source": [
    "Q96. Write a python program to print below pattern.\n",
    "```\n",
    "* \n",
    "* * \n",
    "* * * \n",
    "* * * * \n",
    "* * * * * "
   ]
  },
  {
   "cell_type": "code",
   "execution_count": null,
   "metadata": {},
   "outputs": [
    {
     "name": "stdout",
     "output_type": "stream",
     "text": [
      "* \n",
      "* * \n",
      "* * * \n",
      "* * * * \n",
      "* * * * * \n"
     ]
    }
   ],
   "source": [
    "def star_Left(n):\n",
    "     \n",
    "    # outer loop to handle number of rows\n",
    "    # n in this case\n",
    "    for i in range(0, n):\n",
    "    # inner loop to handle number of columns\n",
    "\n",
    "        # values changing acc. to outer loop\n",
    "        for j in range(0, i+1):\n",
    "\n",
    "            # printing stars\n",
    "            print(\"* \",end=\"\")\n",
    "\n",
    "        # ending line after each row\n",
    "        print(\"\\r\")\n",
    " \n",
    "# Driver Code\n",
    "n = 5\n",
    "pypart(n)"
   ]
  },
  {
   "cell_type": "markdown",
   "metadata": {},
   "source": [
    "Q97. Write a python program to print below pattern.\n",
    "```\n",
    "    *\n",
    "   **\n",
    "  ***\n",
    " ****\n",
    "*****"
   ]
  },
  {
   "cell_type": "code",
   "execution_count": null,
   "metadata": {},
   "outputs": [
    {
     "name": "stdout",
     "output_type": "stream",
     "text": [
      "        * \n",
      "      * * \n",
      "    * * * \n",
      "  * * * * \n",
      "* * * * * \n"
     ]
    }
   ],
   "source": [
    "def pypart2(n):\n",
    "     \n",
    "    # number of spaces\n",
    "    k = 2*n - 2\n",
    " \n",
    "    # outer loop to handle number of rows\n",
    "    for i in range(0, n):\n",
    "     \n",
    "        # inner loop to handle number spaces\n",
    "        # values changing acc. to requirement\n",
    "        for j in range(0, k):\n",
    "            print(end=\" \")\n",
    "     \n",
    "        # decrementing k after each loop\n",
    "        k = k - 2\n",
    "     \n",
    "        # inner loop to handle number of columns\n",
    "        # values changing acc. to outer loop\n",
    "        for j in range(0, i+1):\n",
    "         \n",
    "            # printing stars\n",
    "            print(\"* \", end=\"\")\n",
    "     \n",
    "        # ending line after each row\n",
    "        print(\"\\r\")\n",
    " \n",
    "# Driver Code\n",
    "n = 5\n",
    "pypart2(n)"
   ]
  },
  {
   "cell_type": "markdown",
   "metadata": {},
   "source": [
    "\n",
    "Q98. Write a python program to print below pattern.\n",
    "```\n",
    "    * \n",
    "   * * \n",
    "  * * * \n",
    " * * * * \n",
    "* * * * *"
   ]
  },
  {
   "cell_type": "code",
   "execution_count": null,
   "metadata": {},
   "outputs": [
    {
     "name": "stdout",
     "output_type": "stream",
     "text": [
      "    * \n",
      "   * * \n",
      "  * * * \n",
      " * * * * \n",
      "* * * * * \n"
     ]
    }
   ],
   "source": [
    "def triangle(n):\n",
    "     \n",
    "    # number of spaces\n",
    "    k = n - 1\n",
    " \n",
    "    # outer loop to handle number of rows\n",
    "    for i in range(0, n):\n",
    "     \n",
    "        # inner loop to handle number spaces\n",
    "        # values changing acc. to requirement\n",
    "        for j in range(0, k):\n",
    "            print(end=\" \")\n",
    "     \n",
    "        # decrementing k after each loop\n",
    "        k = k - 1\n",
    "     \n",
    "        # inner loop to handle number of columns\n",
    "        # values changing acc. to outer loop\n",
    "        for j in range(0, i+1):\n",
    "         \n",
    "            # printing stars\n",
    "            print(\"* \", end=\"\")\n",
    "     \n",
    "        # ending line after each row\n",
    "        print(\"\\r\")\n",
    " \n",
    "# Driver Code\n",
    "n = 5\n",
    "triangle(n)"
   ]
  },
  {
   "cell_type": "markdown",
   "metadata": {},
   "source": [
    "Q99. Write a python program to print below pattern.\n",
    "```\n",
    "1 \n",
    "1 2 \n",
    "1 2 3 \n",
    "1 2 3 4 \n",
    "1 2 3 4 5"
   ]
  },
  {
   "cell_type": "code",
   "execution_count": null,
   "metadata": {},
   "outputs": [
    {
     "name": "stdout",
     "output_type": "stream",
     "text": [
      "1 \n",
      "1 2 \n",
      "1 2 3 \n",
      "1 2 3 4 \n",
      "1 2 3 4 5 \n"
     ]
    }
   ],
   "source": [
    "def numpat(n):\n",
    "     \n",
    "    # initialising starting number\n",
    "    num = 1\n",
    " \n",
    "    # outer loop to handle number of rows\n",
    "    for i in range(0, n):\n",
    "     \n",
    "        # re assigning num\n",
    "        num = 1\n",
    "     \n",
    "        # inner loop to handle number of columns\n",
    "            # values changing acc. to outer loop\n",
    "        for j in range(0, i+1):\n",
    "         \n",
    "                # printing number\n",
    "            print(num, end=\" \")\n",
    "         \n",
    "            # incrementing number at each column\n",
    "            num = num + 1\n",
    "     \n",
    "        # ending line after each row\n",
    "        print(\"\\r\")\n",
    " \n",
    "# Driver code\n",
    "n = 5\n",
    "numpat(n)"
   ]
  },
  {
   "cell_type": "markdown",
   "metadata": {},
   "source": [
    "\n",
    "Q100. Write a python program to print below pattern.\n",
    "```\n",
    "A \n",
    "B B \n",
    "C C C \n",
    "D D D D \n",
    "E E E E E \n"
   ]
  },
  {
   "cell_type": "code",
   "execution_count": null,
   "metadata": {},
   "outputs": [
    {
     "name": "stdout",
     "output_type": "stream",
     "text": [
      "A \n",
      "B B \n",
      "C C C \n",
      "D D D D \n",
      "E E E E E \n"
     ]
    }
   ],
   "source": [
    "def alphapat(n):\n",
    "     \n",
    "    # initializing value corresponding to 'A'\n",
    "    # ASCII value\n",
    "    num = 65\n",
    " \n",
    "    # outer loop to handle number of rows\n",
    "    # 5 in this case\n",
    "    for i in range(0, n):\n",
    "     \n",
    "        # inner loop to handle number of columns\n",
    "        # values changing acc. to outer loop\n",
    "        for j in range(0, i+1):\n",
    "         \n",
    "            # explicitly converting to char\n",
    "            ch = chr(num)\n",
    "         \n",
    "            # printing char value\n",
    "            print(ch, end=\" \")\n",
    "     \n",
    "        # incrementing number\n",
    "        num = num + 1\n",
    "     \n",
    "        # ending line after each row\n",
    "        print(\"\\r\")\n",
    " \n",
    "# Driver Code\n",
    "n = 5\n",
    "alphapat(n)"
   ]
  }
 ],
 "metadata": {
  "kernelspec": {
   "display_name": "base",
   "language": "python",
   "name": "python3"
  },
  "language_info": {
   "codemirror_mode": {
    "name": "ipython",
    "version": 3
   },
   "file_extension": ".py",
   "mimetype": "text/x-python",
   "name": "python",
   "nbconvert_exporter": "python",
   "pygments_lexer": "ipython3",
   "version": "3.9.13 (main, Aug 25 2022, 23:51:50) [MSC v.1916 64 bit (AMD64)]"
  },
  "orig_nbformat": 4,
  "vscode": {
   "interpreter": {
    "hash": "a4df7a6600e22bae99e6e8f837be5af686fd7a404512ca9c2620376f38fe7d31"
   }
  }
 },
 "nbformat": 4,
 "nbformat_minor": 2
}
