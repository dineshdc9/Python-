{
 "cells": [
  {
   "attachments": {},
   "cell_type": "markdown",
   "metadata": {},
   "source": [
    "Q1. How do you load a CSV file into a Pandas DataFrame?     \n",
    "Ans.    \n",
    "To load a CSV file into a Pandas DataFrame, you can use the pandas.read_csv function. This function takes a file path (or URL) and various optional parameters to control how the file is read.     \n",
    "--Load the CSV file\n",
    "df = pd.read_csv('file.csv')\n",
    "\n",
    "--Print the contents of the DataFrame\n",
    "print(df)"
   ]
  },
  {
   "attachments": {},
   "cell_type": "markdown",
   "metadata": {},
   "source": [
    "Q2. How do you check the data type of a column in a Pandas DataFrame?       \n",
    "Ans.    \n",
    "To check the data type of a column in a Pandas DataFrame, you can use the dtypes attribute of the DataFrame. This attribute returns a Pandas Series object with the data types of each column.  \n",
    "--Load the CSV file\n",
    "df = pd.read_csv('file.csv')\n",
    "\n",
    "--Print the data types of the columns\n",
    "print(df.dtypes)\n"
   ]
  },
  {
   "attachments": {},
   "cell_type": "markdown",
   "metadata": {},
   "source": [
    "Q3. How do you select rows from a Pandas DataFrame based on a condition?\n",
    "Ans.    \n",
    "To select rows from a Pandas DataFrame based on a condition, you can use the loc method, which is a more flexible indexer for DataFrames.   \n",
    "--Load the CSV file     \n",
    "df = pd.read_csv('file.csv')\n",
    "\n",
    "--Select rows where the 'col1' column is greater than 0     \n",
    "df = df.loc[df['col1'] > 0]\n",
    "\n",
    "--Print the contents of the DataFrame       \n",
    "print(df)\n"
   ]
  },
  {
   "attachments": {},
   "cell_type": "markdown",
   "metadata": {},
   "source": [
    "Q4. How do you rename columns in a Pandas DataFrame?    \n",
    "Ans.    \n",
    "To rename columns in a Pandas DataFrame, you can use the rename method. This method takes a dictionary of old column names as keys, and new column names as values, and returns a new DataFrame with the renamed columns    \n",
    "--Load the CSV file     \n",
    "df = pd.read_csv('file.csv')\n",
    "\n",
    "--Rename the 'col1' column to 'new_name'        \n",
    "df = df.rename(columns={'col1': 'new_name'})\n"
   ]
  },
  {
   "attachments": {},
   "cell_type": "markdown",
   "metadata": {},
   "source": [
    "Q5. How do you drop columns in a Pandas DataFrame?      \n",
    "Ans.    \n",
    "To drop columns in a Pandas DataFrame, you can use the drop method. This method takes a list of column names as input, and returns a new DataFrame with the specified columns removed.      \n",
    "--Load the CSV file     \n",
    "df = pd.read_csv('file.csv')\n",
    "\n",
    "--Drop the 'col1' column    \n",
    "df = df.drop(columns=['col1'])"
   ]
  },
  {
   "attachments": {},
   "cell_type": "markdown",
   "metadata": {},
   "source": [
    "Q6. How do you find the unique values in a column of a Pandas DataFrame?    \n",
    "Ans.    \n",
    "To find the unique values in a column of a Pandas DataFrame, you can use the unique method of the Series object.    \n",
    "\n",
    "--Find the unique values in the 'col1' column\n",
    "uniq_vals = df['col1'].unique()"
   ]
  },
  {
   "attachments": {},
   "cell_type": "markdown",
   "metadata": {},
   "source": [
    "Q7. How do you find the number of missing values in each column of a Pandas DataFrame?      \n",
    "Ans.    \n",
    "To find the number of missing values in each column of a Pandas DataFrame, you can use the isnull method to create a Boolean mask indicating which values are missing, and then use the sum method to count the number of True values in each column    \n",
    "--Count the number of missing values in each column     \n",
    "null_counts = df.isnull().sum()"
   ]
  },
  {
   "attachments": {},
   "cell_type": "markdown",
   "metadata": {},
   "source": [
    "Q8. How do you fill missing values in a Pandas DataFrame with a specific value?     \n",
    "Ans.   \n",
    "--Fill missing values in the 'col1' column with 0       \n",
    "df['col1'] = df['col1'].fillna(0)\n",
    "\n",
    "\n"
   ]
  },
  {
   "attachments": {},
   "cell_type": "markdown",
   "metadata": {},
   "source": [
    "Q9. How do you concatenate two Pandas DataFrames?   \n",
    "Ans.    \n",
    "--Load the first CSV file       \n",
    "df1 = pd.read_csv('file1.csv')\n",
    "\n",
    "--Load the second CSV file      \n",
    "df2 = pd.read_csv('file2.csv')\n",
    "\n",
    "--Concatenate the two DataFrames        \n",
    "df = pd.concat([df1, df2])\n",
    "\n",
    "--Print the contents of the resulting DataFrame         \n",
    "print(df)\n"
   ]
  },
  {
   "attachments": {},
   "cell_type": "markdown",
   "metadata": {},
   "source": [
    "Q10. How do you merge two Pandas DataFrames on a specific column?   \n",
    "Ans.    \n",
    "To merge two Pandas DataFrames on a specific column, you can use the merge function     \n",
    "import pandas as pd\n",
    "\n",
    "df1 = pd.DataFrame({'key': ['K0', 'K1', 'K2', 'K3'],\n",
    "                     'A': ['A0', 'A1', 'A2', 'A3'],\n",
    "                     'B': ['B0', 'B1', 'B2', 'B3']})\n",
    "\n",
    "df2 = pd.DataFrame({'key': ['K0', 'K1', 'K2', 'K3'],\n",
    "                     'C': ['C0', 'C1', 'C2', 'C3'],\n",
    "                     'D': ['D0', 'D1', 'D2', 'D3']})\n",
    "\n",
    "result = pd.merge(df1, df2, on='key')   \n",
    "print(result)\n",
    "\n"
   ]
  },
  {
   "attachments": {},
   "cell_type": "markdown",
   "metadata": {},
   "source": [
    "Q11. How do you group data in a Pandas DataFrame by a specific column and apply an aggregation function?    \n",
    "Ans.    \n",
    "import pandas as pd\n",
    "\n",
    "df = pd.DataFrame({'key': ['K0', 'K1', 'K2', 'K3'],\n",
    "                   'col1': [1, 2, 3, 4],\n",
    "                   'col2': [5, 6, 7, 8]})\n",
    "\n",
    "result = df.groupby('key').agg({'col1': 'sum', 'col2': 'mean'})     \n",
    "print(result)\n",
    "\n"
   ]
  },
  {
   "attachments": {},
   "cell_type": "markdown",
   "metadata": {},
   "source": [
    "Q12. How do you pivot a Pandas DataFrame?       \n",
    "Ans.    \n",
    "To pivot a Pandas DataFrame, you can use the pivot() function. This function will take three arguments: index, columns, and values.     \n",
    "import pandas as pd\n",
    "\n",
    "--Load the data     \n",
    "df = pd.read_csv('data.csv')\n",
    "\n",
    "--Pivot the data        \n",
    "pivoted = df.pivot(index='index_column_name', columns='column_name', values='value_column_name')\n",
    "\n"
   ]
  },
  {
   "attachments": {},
   "cell_type": "markdown",
   "metadata": {},
   "source": [
    "Q13. How do you change the data type of a column in a Pandas DataFrame?     \n",
    "Ans.    \n",
    "To change the data type of a column in a Pandas DataFrame, you can use the astype() function. This function allows you to specify the data type you want to convert the column.      \n",
    "import pandas as pd \n",
    "\n",
    "--Load the data     \n",
    "df = pd.read_csv('data.csv')\n",
    "\n",
    "--Convert the 'age' column to an integer        \n",
    "df['age'] = df['age'].astype(int)\n"
   ]
  },
  {
   "attachments": {},
   "cell_type": "markdown",
   "metadata": {},
   "source": [
    "Q14. How do you sort a Pandas DataFrame by a specific column?       \n",
    "Ans.       \n",
    "To sort a Pandas DataFrame by a specific column, you can use the sort_values() function. This function takes a by parameter, which specifies the name of the column to sort by. \n",
    "\n",
    "import pandas as pd \n",
    "\n",
    "--Load the data     \n",
    "df = pd.read_csv('data.csv')\n",
    "\n",
    "--Sort the DataFrame by the 'age' column        \n",
    "df.sort_values(by='age')\n",
    "\n"
   ]
  },
  {
   "attachments": {},
   "cell_type": "markdown",
   "metadata": {},
   "source": [
    "Q15. How do you create a copy of a Pandas DataFrame?        \n",
    "Ans.    \n",
    "o create a copy of a Pandas DataFrame, you can use the copy() function. This function creates a new object with a copy of the data in the original DataFrame    \n",
    "\n",
    "import pandas as pd\n",
    "\n",
    "--Load the data     \n",
    "df = pd.read_csv('data.csv')\n",
    "\n",
    "--Create a copy of the DataFrame        \n",
    "df_copy = df.copy()\n",
    "\n"
   ]
  },
  {
   "attachments": {},
   "cell_type": "markdown",
   "metadata": {},
   "source": [
    "Q16. How do you filter rows of a Pandas DataFrame by multiple conditions?   \n",
    "Ans.    \n",
    "To filter rows of a Pandas DataFrame by multiple conditions, you can use the & and | operators to specify multiple conditions   \n",
    "\n",
    "import pandas as pd     \n",
    "\n",
    "--Load the data     \n",
    "df = pd.read_csv('data.csv')\n",
    "\n",
    "--Filter rows where the 'age' column is greater than 30 and the 'name' column starts with 'A'       \n",
    "df = df[(df['age'] > 30) & (df['name'].str.startswith('A'))]\n"
   ]
  },
  {
   "attachments": {},
   "cell_type": "markdown",
   "metadata": {},
   "source": [
    "Q17. How do you calculate the mean of a column in a Pandas DataFrame?\n",
    "Ans.    \n",
    "To calculate the mean of a column in a Pandas DataFrame, you can use the mean() function. This function returns the mean of all the values in the column.   \n",
    "import pandas as pd\n",
    "\n",
    "--Load a sample DataFrame   \n",
    "df = pd.read_csv(\"data.csv\")\n",
    "\n",
    "--Calculate the mean of the \"Score\" column      \n",
    "mean_score = df[\"Score\"].mean()\n",
    "\n",
    "print(mean_score)\n"
   ]
  },
  {
   "attachments": {},
   "cell_type": "markdown",
   "metadata": {},
   "source": [
    "Q18. How do you calculate the standard deviation of a column in a Pandas DataFrame?\n",
    "Ans.    \n",
    "You can calculate the standard deviation of a column in a Pandas DataFrame using the std() function \n",
    "import pandas as pd\n",
    "\n",
    "--Create a sample DataFrame     \n",
    "df = pd.DataFrame({'col1': [1, 2, 3, 4, 5], 'col2': [2, 3, 4, 5, 6]})\n",
    "\n",
    "--Calculate the standard deviation of column 'col1'     \n",
    "col1_std = df['col1'].std()\n",
    "\n",
    "print(col1_std)\n"
   ]
  },
  {
   "attachments": {},
   "cell_type": "markdown",
   "metadata": {},
   "source": [
    "Q19. How do you calculate the correlation between two columns in a Pandas DataFrame?\n",
    "Ans.        \n",
    "You can calculate the correlation between two columns in a Pandas DataFrame using the corr() function.      \n",
    "import pandas as pd\n",
    "\n",
    "--Create a sample DataFrame     \n",
    "df = pd.DataFrame({'col1': [1, 2, 3, 4, 5], 'col2': [2, 3, 4, 5, 6]})\n",
    "\n",
    "--Calculate the correlation between column 'col1' and 'col2'        \n",
    "corr = df['col1'].corr(df['col2'])\n",
    "\n",
    "print(corr)\n"
   ]
  },
  {
   "attachments": {},
   "cell_type": "markdown",
   "metadata": {},
   "source": [
    "Q20. How do you select specific columns in a DataFrame using their labels?\n",
    "Ans.    \n",
    "***Using the [] operator:  \n",
    "import pandas as pd\n",
    "\n",
    "--Create a sample DataFrame     \n",
    "df = pd.DataFrame({'col1': [1, 2, 3, 4, 5], 'col2': [2, 3, 4, 5, 6], 'col3': [3, 4, 5, 6, 7]})\n",
    "\n",
    "--Select column 'col1'      \n",
    "col1 = df['col1']\n",
    "\n",
    "print(col1)\n",
    "\n",
    "\n",
    "***Using the dot notation:      \n",
    "--Select columns 'col1' and 'col3'\n",
    "col1_and_col3 = df[['col1', 'col3']]\n",
    "\n",
    "print(col1_and_col3)\n"
   ]
  },
  {
   "attachments": {},
   "cell_type": "markdown",
   "metadata": {},
   "source": [
    "Q21. How do you select specific rows in a DataFrame using their indexes?\n",
    "Ans.    \n",
    "***Using the [] operator:   \n",
    "import pandas as pd\n",
    "\n",
    "--Create a sample DataFrame         \n",
    "df = pd.DataFrame({'col1': [1, 2, 3, 4, 5], 'col2': [2, 3, 4, 5, 6], 'col3': [3, 4, 5, 6, 7]}, index=['a', 'b', 'c', 'd', 'e'])\n",
    "\n",
    "--Select row 'b'    \n",
    "row_b = df.loc['b']\n",
    "\n",
    "print(row_b)\n",
    "\n",
    "***Using the iloc[] function:   \n",
    "--Select rows 2 and 4 (indices 1 and 3)         \n",
    "rows_2_and_4 = df.iloc[[1, 3]]\n",
    "\n",
    "print(rows_2_and_4)\n",
    "\n"
   ]
  },
  {
   "attachments": {},
   "cell_type": "markdown",
   "metadata": {},
   "source": [
    "Q22. How do you sort a DataFrame by a specific column?  \n",
    "Ans.    \n",
    "import pandas as pd\n",
    "\n",
    "--Create a sample DataFrame     \n",
    "df = pd.DataFrame({'col1': [5, 2, 3, 1, 4], 'col2': [2, 3, 4, 5, 6], 'col3': [3, 4, 5, 6, 7]})\n",
    "\n",
    "--Sort the DataFrame by column 'col1' in ascending order        \n",
    "df_sorted = df.sort_values(by='col1')\n",
    "\n",
    "print(df_sorted)\n"
   ]
  },
  {
   "attachments": {},
   "cell_type": "markdown",
   "metadata": {},
   "source": [
    "Q23. How do you create a new column in a DataFrame based on the values of another column?       \n",
    "Ans.        \n",
    "import pandas as pd\n",
    "\n",
    "--Create a sample DataFrame     \n",
    "df = pd.DataFrame({'col1': [1, 2, 3, 4, 5], 'col2': [2, 3, 4, 5, 6]})\n",
    "\n",
    "--Create a new column 'col3' based on the values in 'col1'      \n",
    "df = df.assign(col3=df['col1'] * 2)\n",
    "\n",
    "print(df)\n",
    "\n"
   ]
  },
  {
   "attachments": {},
   "cell_type": "markdown",
   "metadata": {},
   "source": [
    "Q24. How do you remove duplicates from a DataFrame?     \n",
    "Ans.    \n",
    "import pandas as pd\n",
    "\n",
    "--Create a sample DataFrame with duplicates     \n",
    "df = pd.DataFrame({'col1': [1, 2, 3, 3, 4, 4, 5], 'col2': [2, 3, 4, 4, 5, 5, 6]})\n",
    "\n",
    "--Remove duplicates     \n",
    "df_deduped = df.drop_duplicates()\n",
    "\n",
    "print(df_deduped)\n",
    "\n"
   ]
  },
  {
   "attachments": {},
   "cell_type": "markdown",
   "metadata": {},
   "source": [
    "Q25. What is the difference between .loc and .iloc in Pandas?   \n",
    "Ans.    \n",
    "n Pandas, .loc and .iloc are both used to select rows and columns from a DataFrame. The primary difference between the two is that .loc uses label-based indices, whereas .iloc uses integer-based indices  \n",
    "\n",
    "import pandas as pd\n",
    "\n",
    "--Create a sample DataFrame     \n",
    "df = pd.DataFrame({'col1': [1, 2, 3, 4, 5], 'col2': [2, 3, 4, 5, 6], 'col3': [3, 4, 5, 6, 7]}, index=['a', 'b', 'c', 'd', 'e'])\n",
    "\n",
    "--Select row 'b' using .loc     \n",
    "row_b = df.loc['b']\n",
    "\n",
    "print(row_b)\n",
    "\n",
    "--Select row 2 (index 1) using .iloc        \n",
    "row_2 = df.iloc[1]\n",
    "\n",
    "print(row_2)\n"
   ]
  }
 ],
 "metadata": {
  "kernelspec": {
   "display_name": "Python 3.11.0 64-bit",
   "language": "python",
   "name": "python3"
  },
  "language_info": {
   "name": "python",
   "version": "3.11.0"
  },
  "orig_nbformat": 4,
  "vscode": {
   "interpreter": {
    "hash": "ebea062570bddf9f0ff82298a6abaa90fdb7e45f04beda4ebff22dcf96d4b6e4"
   }
  }
 },
 "nbformat": 4,
 "nbformat_minor": 2
}
